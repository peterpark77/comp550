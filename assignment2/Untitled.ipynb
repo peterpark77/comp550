{
 "cells": [
  {
   "cell_type": "code",
   "execution_count": 1,
   "metadata": {},
   "outputs": [],
   "source": [
    "import nltk\n",
    "import nltk.tag.hmm\n",
    "from nltk.corpus import treebank\n",
    "import nltk.probability\n",
    "import string\n",
    "from nltk import ConditionalFreqDist, FreqDist\n",
    "from nltk.probability import LaplaceProbDist, RandomProbDist, MLEProbDist, ConditionalProbDist\n",
    "import sys\n"
   ]
  },
  {
   "cell_type": "code",
   "execution_count": 100,
   "metadata": {},
   "outputs": [],
   "source": [
    "cipher_folder = \"a2data/cipher2\"\n",
    "\n",
    "\n",
    "train_cipher_path = cipher_folder + '/train_cipher.txt'\n",
    "train_plain_path = cipher_folder + '/train_plain.txt'\n",
    "test_cipher_path = cipher_folder + '/test_cipher.txt'\n",
    "test_plain_path = cipher_folder + '/test_plain.txt'\n"
   ]
  },
  {
   "cell_type": "code",
   "execution_count": 101,
   "metadata": {},
   "outputs": [],
   "source": [
    "\n",
    "with open(train_cipher_path, 'r', encoding='utf-8', errors='ignore') as somefile:\n",
    "    train_cipher = somefile.readlines()\n",
    "with open(train_plain_path, 'r', encoding='utf-8', errors='ignore') as somefile:\n",
    "    train_plain = somefile.readlines()"
   ]
  },
  {
   "cell_type": "code",
   "execution_count": 102,
   "metadata": {},
   "outputs": [],
   "source": [
    "\n",
    "train_cipher = [x.strip('\\n') for x in train_cipher]\n",
    "train_plain = [x.strip('\\n') for x in train_plain]\n",
    "train_set = []\n",
    "for x,y in zip(train_cipher, train_plain):\n",
    "    item = list(zip(x,y))\n",
    "    train_set.append(item)\n"
   ]
  },
  {
   "cell_type": "code",
   "execution_count": 103,
   "metadata": {},
   "outputs": [],
   "source": [
    "with open(test_cipher_path, 'r', encoding='utf-8', errors='ignore') as somefile:\n",
    "    test_cipher = somefile.readlines()\n",
    "with open(test_plain_path, 'r', encoding='utf-8', errors='ignore') as somefile:\n",
    "    test_plain = somefile.readlines()"
   ]
  },
  {
   "cell_type": "code",
   "execution_count": 104,
   "metadata": {},
   "outputs": [],
   "source": [
    "test_cipher = [x.strip('\\n') for x in test_cipher]\n",
    "test_plain = [x.strip('\\n') for x in test_plain]\n",
    "test_set = []\n",
    "for x,y in zip(test_cipher, test_plain):\n",
    "    item = list(zip(x,y))\n",
    "    test_set.append(item)"
   ]
  },
  {
   "cell_type": "code",
   "execution_count": 105,
   "metadata": {},
   "outputs": [],
   "source": [
    "symbols = list(string.ascii_lowercase) + [',', '.', ' ']\n",
    "states = list(string.ascii_lowercase) + [',', '.', ' ']\n",
    "\n"
   ]
  }
 ],
 "metadata": {
  "kernelspec": {
   "display_name": "Python 3",
   "language": "python",
   "name": "python3"
  },
  "language_info": {
   "codemirror_mode": {
    "name": "ipython",
    "version": 3
   },
   "file_extension": ".py",
   "mimetype": "text/x-python",
   "name": "python",
   "nbconvert_exporter": "python",
   "pygments_lexer": "ipython3",
   "version": "3.6.7"
  }
 },
 "nbformat": 4,
 "nbformat_minor": 2
}
